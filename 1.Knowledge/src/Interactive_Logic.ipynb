{
 "cells": [
  {
   "cell_type": "markdown",
   "metadata": {},
   "source": [
    "# Logic"
   ]
  },
  {
   "cell_type": "code",
   "execution_count": 28,
   "metadata": {},
   "outputs": [],
   "source": [
    "from logic import *"
   ]
  },
  {
   "cell_type": "code",
   "execution_count": 42,
   "metadata": {},
   "outputs": [
    {
     "name": "stdout",
     "output_type": "stream",
     "text": [
      "¬\n",
      "∧\n",
      "∨\n",
      "→\n",
      "↔\n"
     ]
    }
   ],
   "source": [
    "# Get some unicode charaters.\n",
    "print(u'\\u00AC') # Not\n",
    "print(u'\\u2227') # And\n",
    "print(u'\\u2228') # Or\n",
    "print(u'\\u2192') # Implication\n",
    "print(u'\\u2194') # Biconditional"
   ]
  },
  {
   "cell_type": "code",
   "execution_count": 33,
   "metadata": {},
   "outputs": [
    {
     "name": "stdout",
     "output_type": "stream",
     "text": [
      "False\n"
     ]
    }
   ],
   "source": [
    "# Not (¬)\n",
    "# Parameters\n",
    "P = Symbol(\"P\")\n",
    "Q = Symbol(\"Q\")\n",
    "\n",
    "# What we know as true.\n",
    "knowledge = And(P, Q)\n",
    "\n",
    "print(model_check(knowledge, Not(knowledge)))"
   ]
  },
  {
   "cell_type": "code",
   "execution_count": 22,
   "metadata": {},
   "outputs": [
    {
     "name": "stdout",
     "output_type": "stream",
     "text": [
      "False\n",
      "False\n",
      "False\n",
      "True\n"
     ]
    }
   ],
   "source": [
    "# And (∧)\n",
    "# Parameters\n",
    "P = Symbol(\"P\")\n",
    "Q = Symbol(\"Q\")\n",
    "\n",
    "# What we know as true.\n",
    "knowledge = And(P, Q)\n",
    "\n",
    "# P ^ Q = P = false, Q = false, = False\n",
    "print(model_check(knowledge, And(Not(P), Not(Q))))\n",
    "\n",
    "# P ^ Q = P = false, Q = true, = False\n",
    "print(model_check(knowledge, And(Not(P), Q)))\n",
    "\n",
    "# P ^ Q = P = true, Q = false, = False\n",
    "print(model_check(knowledge, And(P, Not(Q))))\n",
    "\n",
    "# P ^ Q = P = true, Q = true, = True\n",
    "print(model_check(knowledge, And(P, Q)))"
   ]
  },
  {
   "cell_type": "code",
   "execution_count": 24,
   "metadata": {},
   "outputs": [
    {
     "name": "stdout",
     "output_type": "stream",
     "text": [
      "False\n",
      "True\n",
      "True\n",
      "True\n"
     ]
    }
   ],
   "source": [
    "# Or (∨)\n",
    "# Parameters\n",
    "P = Symbol(\"P\")\n",
    "Q = Symbol(\"Q\")\n",
    "\n",
    "# What we know as true.\n",
    "knowledge = And(P, Q)\n",
    "\n",
    "# P ^ Q = P = false, Q = false, = False\n",
    "print(model_check(knowledge, Or(Not(P), Not(Q))))\n",
    "\n",
    "# P ^ Q = P = false, Q = true, = False\n",
    "print(model_check(knowledge, Or(Not(P), Q)))\n",
    "\n",
    "# P ^ Q = P = true, Q = false, = False\n",
    "print(model_check(knowledge, Or(P, Not(Q))))\n",
    "\n",
    "# P ^ Q = P = true, Q = true, = True\n",
    "print(model_check(knowledge, Or(P, Q)))"
   ]
  },
  {
   "cell_type": "code",
   "execution_count": 25,
   "metadata": {},
   "outputs": [
    {
     "name": "stdout",
     "output_type": "stream",
     "text": [
      "True\n",
      "True\n",
      "False\n",
      "True\n"
     ]
    }
   ],
   "source": [
    "# Implication (→)\n",
    "# Parameters\n",
    "P = Symbol(\"P\")\n",
    "Q = Symbol(\"Q\")\n",
    "\n",
    "# What we know as true.\n",
    "knowledge = And(P, Q)\n",
    "\n",
    "# P ^ Q = P = false, Q = false, = False\n",
    "print(model_check(knowledge, Implication(Not(P), Not(Q))))\n",
    "\n",
    "# P ^ Q = P = false, Q = true, = False\n",
    "print(model_check(knowledge, Implication(Not(P), Q)))\n",
    "\n",
    "# P ^ Q = P = true, Q = false, = False\n",
    "print(model_check(knowledge, Implication(P, Not(Q))))\n",
    "\n",
    "# P ^ Q = P = true, Q = true, = True\n",
    "print(model_check(knowledge, Implication(P, Q)))"
   ]
  },
  {
   "cell_type": "code",
   "execution_count": 41,
   "metadata": {},
   "outputs": [
    {
     "name": "stdout",
     "output_type": "stream",
     "text": [
      "True\n",
      "False\n",
      "False\n",
      "True\n"
     ]
    }
   ],
   "source": [
    "# Biconditional (↔)\n",
    "# If and only if.\n",
    "# Parameters\n",
    "\n",
    "P = Symbol(\"P\")\n",
    "Q = Symbol(\"Q\")\n",
    "\n",
    "# What we know as true.\n",
    "knowledge = And(P, Q)\n",
    "\n",
    "# P ^ Q = P = false, Q = false, = False\n",
    "print(model_check(knowledge, Biconditional(Not(P), Not(Q))))\n",
    "\n",
    "# P ^ Q = P = false, Q = true, = False\n",
    "print(model_check(knowledge, Biconditional(Not(P), Q)))\n",
    "\n",
    "# P ^ Q = P = true, Q = false, = False\n",
    "print(model_check(knowledge, Biconditional(P, Not(Q))))\n",
    "\n",
    "# P ^ Q = P = true, Q = true, = True\n",
    "print(model_check(knowledge, Biconditional(P, Q)))"
   ]
  },
  {
   "cell_type": "code",
   "execution_count": null,
   "metadata": {},
   "outputs": [],
   "source": []
  },
  {
   "cell_type": "markdown",
   "metadata": {},
   "source": [
    "Entailment \\\n",
    "Inference"
   ]
  },
  {
   "cell_type": "markdown",
   "metadata": {},
   "source": [
    "# Harry Example"
   ]
  },
  {
   "cell_type": "code",
   "execution_count": 69,
   "metadata": {},
   "outputs": [
    {
     "name": "stdout",
     "output_type": "stream",
     "text": [
      "False\n",
      "False\n"
     ]
    }
   ],
   "source": [
    "from logic import *\n",
    "# P: It is a Tuesday\n",
    "P = Symbol(\"tuesday\")\n",
    "\n",
    "# Q: It is raining\n",
    "Q = Symbol(\"rain\")\n",
    "\n",
    "# R: Harry will go for a run.\n",
    "R = Symbol(\"run\")\n",
    "\n",
    "knowledge = Implication(And(P, Not(Q)), R)\n",
    "\n",
    "# Will Harry go for run if it is raining?\n",
    "# does the knowledge Entail the question of above.\n",
    "print(model_check(knowledge, And(P,R)))\n",
    "\n",
    "\n",
    "# Will Harry go for run if it is not tuesday?\n",
    "print(model_check(knowledge, And(Not(P),R)))"
   ]
  },
  {
   "cell_type": "code",
   "execution_count": 66,
   "metadata": {},
   "outputs": [
    {
     "data": {
      "text/plain": [
       "'(tuesday ∧ (¬rain)) => run'"
      ]
     },
     "execution_count": 66,
     "metadata": {},
     "output_type": "execute_result"
    }
   ],
   "source": [
    "knowledge.formula()"
   ]
  },
  {
   "cell_type": "code",
   "execution_count": 54,
   "metadata": {},
   "outputs": [],
   "source": [
    "from logic import *\n",
    "\n",
    "rain = Symbol(\"rain\") # It is raining.\n",
    "hagrid = Symbol(\"hagrid\") # Harry visited Hagrid.\n",
    "dumbledore = Symbol(\"dumbledore\") # Harry Visited Dumbledore.\n",
    "\n",
    "knowledge = And(\n",
    "    Implication(Not(rain), hagrid),\n",
    "    Or(hagrid, dumbledore),\n",
    "    Not(And(hagrid, dumbledore)),\n",
    "    dumbledore\n",
    ")"
   ]
  },
  {
   "cell_type": "code",
   "execution_count": 55,
   "metadata": {},
   "outputs": [
    {
     "data": {
      "text/plain": [
       "'((¬rain) => hagrid) ∧ (hagrid ∨  dumbledore) ∧ (¬(hagrid ∧ dumbledore)) ∧ dumbledore'"
      ]
     },
     "execution_count": 55,
     "metadata": {},
     "output_type": "execute_result"
    }
   ],
   "source": [
    "knowledge.formula()"
   ]
  },
  {
   "cell_type": "code",
   "execution_count": 56,
   "metadata": {},
   "outputs": [
    {
     "name": "stdout",
     "output_type": "stream",
     "text": [
      "True\n"
     ]
    }
   ],
   "source": [
    "    \"\"\"Is it raining?\n",
    "    \"\"\"\n",
    "print(model_check(knowledge, rain))"
   ]
  },
  {
   "cell_type": "code",
   "execution_count": 68,
   "metadata": {},
   "outputs": [
    {
     "name": "stdout",
     "output_type": "stream",
     "text": [
      "False\n"
     ]
    }
   ],
   "source": [
    "    \"\"\"Is it not raining?\n",
    "    \"\"\"\n",
    "print(model_check(knowledge, Not(rain)))"
   ]
  },
  {
   "cell_type": "code",
   "execution_count": null,
   "metadata": {},
   "outputs": [],
   "source": []
  }
 ],
 "metadata": {
  "kernelspec": {
   "display_name": ".venv",
   "language": "python",
   "name": "python3"
  },
  "language_info": {
   "codemirror_mode": {
    "name": "ipython",
    "version": 3
   },
   "file_extension": ".py",
   "mimetype": "text/x-python",
   "name": "python",
   "nbconvert_exporter": "python",
   "pygments_lexer": "ipython3",
   "version": "3.11.8"
  }
 },
 "nbformat": 4,
 "nbformat_minor": 2
}
